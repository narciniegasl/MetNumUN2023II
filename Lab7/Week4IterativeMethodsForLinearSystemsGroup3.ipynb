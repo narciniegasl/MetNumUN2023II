{
  "cells": [
    {
      "cell_type": "markdown",
      "metadata": {
        "id": "view-in-github",
        "colab_type": "text"
      },
      "source": [
        "<a href=\"https://colab.research.google.com/github/kguzmand/MetNumUN2023II/blob/main/Week4IterativeMethodsForLinearSystemsGroup3.ipynb\" target=\"_parent\"><img src=\"https://colab.research.google.com/assets/colab-badge.svg\" alt=\"Open In Colab\"/></a>"
      ]
    },
    {
      "cell_type": "markdown",
      "source": [
        "**GROUP 3**\n",
        "\n",
        "Name\n",
        "*  Nicolas Felipe Arciniegas Lizarazo\n",
        "*  Karen Lorena Guzman del Rio\n",
        "*  Sebastian Lopez Silva"
      ],
      "metadata": {
        "id": "IhP7kfMG408f"
      }
    },
    {
      "cell_type": "markdown",
      "metadata": {
        "id": "_7zSSeX21Grj"
      },
      "source": [
        "# Simple iteration for systems of linear equations"
      ]
    },
    {
      "cell_type": "markdown",
      "metadata": {
        "id": "GRz8VJ0N1Grn"
      },
      "source": [
        "First, generate a random diagonally dominant matrix, for testing."
      ]
    },
    {
      "cell_type": "code",
      "execution_count": 1,
      "metadata": {
        "collapsed": true,
        "id": "jTVkb-WZ1Gro"
      },
      "outputs": [],
      "source": [
        "import numpy as np\n",
        "rndm = np.random.RandomState(1234)\n",
        "\n",
        "n = 10\n",
        "A = rndm.uniform(size=(n, n)) + np.diagflat([15]*n)\n",
        "b = rndm.uniform(size=n)"
      ]
    },
    {
      "cell_type": "code",
      "source": [
        "A"
      ],
      "metadata": {
        "id": "4mv5q-nMKZwY",
        "outputId": "2c148b8f-a4fb-454f-ee7f-f3abf4722c03",
        "colab": {
          "base_uri": "https://localhost:8080/"
        }
      },
      "execution_count": 3,
      "outputs": [
        {
          "output_type": "execute_result",
          "data": {
            "text/plain": [
              "array([[1.51915195e+01, 6.22108771e-01, 4.37727739e-01, 7.85358584e-01,\n",
              "        7.79975808e-01, 2.72592605e-01, 2.76464255e-01, 8.01872178e-01,\n",
              "        9.58139354e-01, 8.75932635e-01],\n",
              "       [3.57817270e-01, 1.55009951e+01, 6.83462935e-01, 7.12702027e-01,\n",
              "        3.70250755e-01, 5.61196186e-01, 5.03083165e-01, 1.37684496e-02,\n",
              "        7.72826622e-01, 8.82641191e-01],\n",
              "       [3.64885984e-01, 6.15396178e-01, 1.50753812e+01, 3.68824006e-01,\n",
              "        9.33140102e-01, 6.51378143e-01, 3.97202578e-01, 7.88730143e-01,\n",
              "        3.16836122e-01, 5.68098653e-01],\n",
              "       [8.69127390e-01, 4.36173424e-01, 8.02147642e-01, 1.51437668e+01,\n",
              "        7.04260971e-01, 7.04581308e-01, 2.18792106e-01, 9.24867629e-01,\n",
              "        4.42140755e-01, 9.09315959e-01],\n",
              "       [5.98092228e-02, 1.84287084e-01, 4.73552788e-02, 6.74880944e-01,\n",
              "        1.55946248e+01, 5.33310163e-01, 4.33240627e-02, 5.61433080e-01,\n",
              "        3.29668446e-01, 5.02966833e-01],\n",
              "       [1.11894318e-01, 6.07193706e-01, 5.65944643e-01, 6.76406199e-03,\n",
              "        6.17441709e-01, 1.59121229e+01, 7.90524133e-01, 9.92081466e-01,\n",
              "        9.58801762e-01, 7.91964135e-01],\n",
              "       [2.85250960e-01, 6.24916705e-01, 4.78093796e-01, 1.95675179e-01,\n",
              "        3.82317452e-01, 5.38736851e-02, 1.54516484e+01, 9.82004742e-01,\n",
              "        1.23942700e-01, 1.19380898e-01],\n",
              "       [7.38523056e-01, 5.87303633e-01, 4.71632534e-01, 1.07126817e-01,\n",
              "        2.29218565e-01, 8.99965195e-01, 4.16753538e-01, 1.55358517e+01,\n",
              "        6.20851659e-03, 3.00641706e-01],\n",
              "       [4.36893172e-01, 6.12148997e-01, 9.18198075e-01, 6.25736670e-01,\n",
              "        7.05997565e-01, 1.49833716e-01, 7.46063409e-01, 8.31006992e-01,\n",
              "        1.56337258e+01, 4.38309881e-01],\n",
              "       [1.52572775e-01, 5.68409615e-01, 5.28224278e-01, 9.51428764e-01,\n",
              "        4.80359179e-01, 5.02559563e-01, 5.36878193e-01, 8.19202067e-01,\n",
              "        5.71156381e-02, 1.56694217e+01]])"
            ]
          },
          "metadata": {},
          "execution_count": 3
        }
      ]
    },
    {
      "cell_type": "markdown",
      "metadata": {
        "id": "oNGIGBex1Grq"
      },
      "source": [
        "# I.  Jacobi iteration\n",
        "\n",
        "Given\n",
        "\n",
        "$$\n",
        "A x = b\n",
        "$$\n",
        "\n",
        "separate the diagonal part $D$,\n",
        "\n",
        "$$ A = D + (A - D) $$\n",
        "\n",
        "and write\n",
        "\n",
        "$$\n",
        "x = D^{-1} (D - A) x + D^{-1} b\\;.\n",
        "$$\n",
        "\n",
        "Then iterate\n",
        "\n",
        "$$\n",
        "x_{n + 1} = B x_{n} + c\\;,\n",
        "$$\n",
        "\n",
        "where\n",
        "\n",
        "$$\n",
        "B = D^{-1} (A - D) \\qquad \\text{and} \\qquad c = D^{-1} b\n",
        "$$\n"
      ]
    },
    {
      "cell_type": "markdown",
      "metadata": {
        "id": "rB2PHHIK1Grr"
      },
      "source": [
        "Let's construct the matrix and the r.h.s. for the Jacobi iteration"
      ]
    },
    {
      "cell_type": "code",
      "execution_count": 4,
      "metadata": {
        "id": "bnk796g61Grr"
      },
      "outputs": [],
      "source": [
        "diag_1d = np.diag(A)\n",
        "\n",
        "B = -A.copy()\n",
        "np.fill_diagonal(B, 0)\n",
        "\n",
        "D = np.diag(diag_1d)\n",
        "invD = np.diag(1./diag_1d)\n",
        "BB = invD @ B\n",
        "c = invD @ b"
      ]
    },
    {
      "cell_type": "code",
      "execution_count": 5,
      "metadata": {
        "id": "0NTUyC3i1Grs"
      },
      "outputs": [],
      "source": [
        "# sanity checks\n",
        "from numpy.testing import assert_allclose\n",
        "\n",
        "assert_allclose(-B + D, A)\n",
        "\n",
        "\n",
        "# xx is a \"ground truth\" solution, compute it using a direct method\n",
        "xx = np.linalg.solve(A, b)\n",
        "\n",
        "np.testing.assert_allclose(A@xx, b)\n",
        "np.testing.assert_allclose(D@xx, B@xx + b)\n",
        "np.testing.assert_allclose(xx, BB@xx + c)"
      ]
    },
    {
      "cell_type": "markdown",
      "metadata": {
        "id": "nRaVUE6U1Grt"
      },
      "source": [
        "Check that $\\| B\\| \\leqslant 1$:"
      ]
    },
    {
      "cell_type": "code",
      "execution_count": 6,
      "metadata": {
        "id": "zgED2OGu1Gru",
        "outputId": "8b311ef3-201c-4f4f-908b-fe2d27226153",
        "colab": {
          "base_uri": "https://localhost:8080/"
        }
      },
      "outputs": [
        {
          "output_type": "execute_result",
          "data": {
            "text/plain": [
              "0.36436161983015336"
            ]
          },
          "metadata": {},
          "execution_count": 6
        }
      ],
      "source": [
        "np.linalg.norm(BB)"
      ]
    },
    {
      "cell_type": "markdown",
      "metadata": {
        "id": "rlBcusqg1Grv"
      },
      "source": [
        "### Do the Jacobi iteration"
      ]
    },
    {
      "cell_type": "code",
      "execution_count": 7,
      "metadata": {
        "collapsed": true,
        "id": "NK6iwDtm1Grv"
      },
      "outputs": [],
      "source": [
        "n_iter = 50\n",
        "\n",
        "x0 = np.ones(n)\n",
        "x = x0\n",
        "for _ in range(n_iter):\n",
        "    x = BB @ x + c"
      ]
    },
    {
      "cell_type": "code",
      "execution_count": 8,
      "metadata": {
        "id": "gsLyio7W1Grw",
        "outputId": "09074aa5-a0d0-49a0-9834-efbfbad15524",
        "colab": {
          "base_uri": "https://localhost:8080/"
        }
      },
      "outputs": [
        {
          "output_type": "execute_result",
          "data": {
            "text/plain": [
              "array([ 1.11022302e-16,  0.00000000e+00, -2.22044605e-16, -1.11022302e-16,\n",
              "        1.11022302e-16,  0.00000000e+00, -2.42861287e-17,  0.00000000e+00,\n",
              "       -2.77555756e-17,  1.11022302e-16])"
            ]
          },
          "metadata": {},
          "execution_count": 8
        }
      ],
      "source": [
        "# Check the result:\n",
        "\n",
        "A @ x - b"
      ]
    },
    {
      "cell_type": "markdown",
      "metadata": {
        "id": "MXfb9BuT1Grw"
      },
      "source": [
        "### Task I.1\n",
        "\n",
        "Collect the proof-of-concept above into a single function implementing the Jacobi iteration. This function should receive the r.h.s. matrix $A$, the l.h.s. vector `b`, and the number of iterations to perform.\n",
        "\n",
        "\n",
        "The matrix $A$ in the illustration above is strongly diagonally dominant, by construction.\n",
        "What happens if the diagonal matrix elements of $A$ are made smaller? Check the convergence of the Jacobi iteration, and check the value of the norm of $B$.\n",
        "\n",
        "(20% of the total grade)\n"
      ]
    },
    {
      "cell_type": "code",
      "execution_count": 23,
      "metadata": {
        "collapsed": true,
        "id": "5zqTUVVa1Grw"
      },
      "outputs": [],
      "source": [
        "import numpy as np\n",
        "\n",
        "def jIteration(MA, Vb, num_iteration):\n",
        "  n = MA.shape[0]\n",
        "  x = np.zeros(n)\n",
        "  norm_dif = []\n",
        "  norm_B = []\n",
        "  for _ in range(num_iteration):\n",
        "      x_new = np.zeros(n)\n",
        "      for i in range(n):\n",
        "          x_new[i] = (Vb[i] - np.dot(MA[i, :i], x[:i]) - np.dot(MA[i, i+1:], x[i+1:])) / MA[i, i]\n",
        "      norm_dif.append(np.linalg.norm(x_new - x))\n",
        "      norm_B.append(np.linalg.norm(MA - np.diag(np.diagonal(MA))))\n",
        "\n",
        "      x = x_new\n",
        "\n",
        "  return x, norm_dif, norm_B"
      ]
    },
    {
      "cell_type": "code",
      "source": [
        "A = np.array([[6, 1, 2],\n",
        "              [1, 7, 4],\n",
        "              [1, 6, 8]])\n",
        "\n",
        "b = np.array([1, 3, 5])\n",
        "\n",
        "numIteration = 10"
      ],
      "metadata": {
        "id": "DNNHH8CP2VGv"
      },
      "execution_count": 18,
      "outputs": []
    },
    {
      "cell_type": "code",
      "source": [
        "x, dif, normB = jIteration(A, b, numIteration)"
      ],
      "metadata": {
        "id": "Z4VO0Cpw2zBf"
      },
      "execution_count": 20,
      "outputs": []
    },
    {
      "cell_type": "code",
      "source": [
        "A_modif = np.array([[0.6, 0.1, 0.2],\n",
        "                       [0.1, 0.7, 0.4],\n",
        "                       [0.1, 0.6, 0.8]])\n",
        "x_modif, dif_modif, norm_B_modif = jIteration(A_modif, b, numIteration)"
      ],
      "metadata": {
        "id": "zUDiIuHh3vAv"
      },
      "execution_count": 21,
      "outputs": []
    },
    {
      "cell_type": "code",
      "source": [
        "print('Matriz original')\n",
        "print(x)\n",
        "print(dif)\n",
        "\n",
        "print(normB)\n",
        "\n",
        "print('Matriz modificada')\n",
        "print(x_modif)\n",
        "print(dif_modif)\n",
        "\n",
        "print(norm_B_modif)"
      ],
      "metadata": {
        "id": "4bUQoSRg8RKb",
        "colab": {
          "base_uri": "https://localhost:8080/"
        },
        "outputId": "22686c1a-7198-42df-9388-cbcc52dfe95a"
      },
      "execution_count": 22,
      "outputs": [
        {
          "output_type": "stream",
          "name": "stdout",
          "text": [
            "Matriz original\n",
            "[-0.04188282  0.11678153  0.51352992]\n",
            "[0.7759357236044316, 0.5835534691530367, 0.4357224726804294, 0.32314853072724203, 0.24256194002189843, 0.18014613587801545, 0.13508476487505122, 0.10047213491478979, 0.07527220440719731, 0.056045507683387855]\n",
            "[7.681145747868608, 7.681145747868608, 7.681145747868608, 7.681145747868608, 7.681145747868608, 7.681145747868608, 7.681145747868608, 7.681145747868608, 7.681145747868608, 7.681145747868608]\n",
            "Matriz modificada\n",
            "[-0.41882819  1.16781534  5.1352992 ]\n",
            "[7.759357236044316, 5.835534691530367, 4.3572247268042945, 3.231485307272421, 2.4256194002189853, 1.8014613587801551, 1.3508476487505126, 1.0047213491478983, 0.752722044071974, 0.5604550768338799]\n",
            "[0.7681145747868608, 0.7681145747868608, 0.7681145747868608, 0.7681145747868608, 0.7681145747868608, 0.7681145747868608, 0.7681145747868608, 0.7681145747868608, 0.7681145747868608, 0.7681145747868608]\n"
          ]
        }
      ]
    },
    {
      "cell_type": "markdown",
      "metadata": {
        "id": "xBnguRFT1Grx"
      },
      "source": [
        "# II. Seidel's iteration."
      ]
    },
    {
      "cell_type": "markdown",
      "metadata": {
        "id": "rSbuFdYU1Grx"
      },
      "source": [
        "##### Task II.1\n",
        "\n",
        "Implement the Seidel's iteration.\n",
        "\n",
        "Test it on a random matrix. Study the convergence of iterations, relate to the norm of the iteration matrix.\n",
        "\n",
        "(30% of the total grade)"
      ]
    },
    {
      "cell_type": "code",
      "execution_count": 26,
      "metadata": {
        "collapsed": true,
        "id": "FYygs3Ml1Grx"
      },
      "outputs": [],
      "source": [
        "import numpy as np\n",
        "\n",
        "def gsIteration(A, b, numIteration):\n",
        "    n = A.shape[0]\n",
        "    x = np.zeros(n)\n",
        "    normDif = []\n",
        "    normB = []\n",
        "    for _ in range(numIteration):\n",
        "        X = np.zeros(n)\n",
        "        for i in range(n):\n",
        "            X[i] = (b[i] - np.dot(A[i, :i], X[:i]) - np.dot(A[i, i+1:], x[i+1:])) / A[i, i]\n",
        "        normDif.append(np.linalg.norm(X - x))\n",
        "        normB.append(np.linalg.norm(A - np.tril(A) @ np.triu(A, 1)))\n",
        "\n",
        "        x = X\n",
        "\n",
        "    return x, normDif, normB"
      ]
    },
    {
      "cell_type": "code",
      "source": [
        "n = 6\n",
        "A = np.random.rand(n, n)\n",
        "b = np.random.rand(n)\n",
        "numIteration = 10"
      ],
      "metadata": {
        "id": "_Ut6PreS3iOS"
      },
      "execution_count": 30,
      "outputs": []
    },
    {
      "cell_type": "code",
      "source": [
        "x, dif, normB = gsIteration(A, b, numIteration)\n",
        "print(x)\n",
        "print(dif)\n",
        "print(normB)"
      ],
      "metadata": {
        "id": "9O1ayPzf3rYR",
        "colab": {
          "base_uri": "https://localhost:8080/"
        },
        "outputId": "c9dd71e1-bbda-4589-e739-d97a75c30ab3"
      },
      "execution_count": 31,
      "outputs": [
        {
          "output_type": "stream",
          "name": "stdout",
          "text": [
            "[  29.19326527 -111.58020836  187.42584039 -149.01707753   59.77460197\n",
            "  -83.11558723]\n",
            "[1.509654687847105, 2.4918910555563594, 2.295488355534375, 8.768807826778366, 18.64910084232208, 17.83065784991639, 57.72194888017752, 143.24546452821116, 153.83135775611382, 368.26477654003486]\n",
            "[2.9377446351949685, 2.9377446351949685, 2.9377446351949685, 2.9377446351949685, 2.9377446351949685, 2.9377446351949685, 2.9377446351949685, 2.9377446351949685, 2.9377446351949685, 2.9377446351949685]\n"
          ]
        }
      ]
    },
    {
      "cell_type": "markdown",
      "metadata": {
        "id": "y3PDxY8W1Gry"
      },
      "source": [
        "# III. Minimum residual scheme"
      ]
    },
    {
      "cell_type": "markdown",
      "metadata": {
        "id": "IbfUD6zy1Gry"
      },
      "source": [
        "### Task III.1\n",
        "\n",
        "Implement the $\\textit{minimum residual}$ scheme: an explicit non-stationary method, where at each step you select the iteration parameter $\\tau_n$ to minimize the residual $\\mathbf{r}_{n+1}$ given $\\mathbf{r}_n$. Test it on a random matrix, study the convergence to the solution, in terms of the norm of the residual and the deviation from the ground truth solution (which you can obtain using a direct method). Study how the iteration parameter $\\tau_n$ changes as iterations progress.\n",
        "\n",
        "(50% of the grade)"
      ]
    },
    {
      "cell_type": "code",
      "execution_count": 37,
      "metadata": {
        "collapsed": true,
        "id": "60_IGETi1Gry"
      },
      "outputs": [],
      "source": [
        "def minres (A, b, num_iterations):\n",
        "    n = A.shape[0]\n",
        "    x = np.zeros(n)\n",
        "    r = b - A @ x\n",
        "    p = r.copy()\n",
        "    normR = []\n",
        "    normD = []\n",
        "    tauValues = []\n",
        "\n",
        "    for k in range(numIteration):\n",
        "        Ap = A @ p\n",
        "        dem = np.dot(p, Ap)\n",
        "        if dem == 0:\n",
        "            break\n",
        "        tau = np.dot(r, Ap) / dem\n",
        "        X = x + tau * p\n",
        "        R = r - tau * Ap\n",
        "        normR.append(np.linalg.norm(R))\n",
        "        normD.append(np.linalg.norm(X - x))\n",
        "        tauValues.append(tau)\n",
        "        x = X\n",
        "        r = R\n",
        "        beta = np.linalg.norm(r)\n",
        "        p = r + (beta / np.linalg.norm(r)) * p\n",
        "\n",
        "    return x, normR, normD, tauValues"
      ]
    },
    {
      "cell_type": "code",
      "source": [
        "n = 6\n",
        "A = np.random.rand(n, n)\n",
        "b = np.random.rand(n)\n",
        "numIteration = 10"
      ],
      "metadata": {
        "id": "Tax1oUf94KaF"
      },
      "execution_count": 38,
      "outputs": []
    },
    {
      "cell_type": "code",
      "source": [
        "x_ground_truth = np.linalg.solve(A, b)\n",
        "print(x_ground_truth)\n",
        "xRes, normR, normD, tauValues = minres (A, b, numIteration)\n",
        "print(xRes)\n",
        "print(normR)\n",
        "print(normD)\n",
        "print(tauValues)"
      ],
      "metadata": {
        "id": "f3EVJysg4THb",
        "colab": {
          "base_uri": "https://localhost:8080/"
        },
        "outputId": "07f21e8f-30c6-4706-b398-a09653d7b76d"
      },
      "execution_count": 39,
      "outputs": [
        {
          "output_type": "stream",
          "name": "stdout",
          "text": [
            "[ 0.79788027 -0.25913208 -0.3941368   0.47759792  0.26351923  0.22693771]\n",
            "[-175.99014307  621.62344304   37.6138381  -597.6978035   -84.02369449\n",
            "  278.0959235 ]\n",
            "[2.703724213728299, 3.8112900249890944, 8.830298843558936, 13.070221480047366, 30.9699638618879, 47.673753554393365, 75.00064558450867, 206.02666216853052, 415.4894091956077, 778.0457606191125]\n",
            "[1.475773914380681, 3.5324176209785647, 5.254517027184728, 10.741046659807985, 26.355110895674215, 35.99549103080048, 67.218229003138, 145.44618187767136, 306.28909094822575, 598.0295598488544]\n",
            "[1.0, 1.6958464846193158, 1.6128296034239553, 1.283463664153764, 1.9722535862795765, 1.1034224830600659, 1.391330692134893, 1.5303554029108162, 1.15997031055533, 0.9497993800314544]\n"
          ]
        }
      ]
    }
  ],
  "metadata": {
    "kernelspec": {
      "display_name": "Python 3",
      "language": "python",
      "name": "python3"
    },
    "language_info": {
      "codemirror_mode": {
        "name": "ipython",
        "version": 3
      },
      "file_extension": ".py",
      "mimetype": "text/x-python",
      "name": "python",
      "nbconvert_exporter": "python",
      "pygments_lexer": "ipython3",
      "version": "3.5.2"
    },
    "colab": {
      "provenance": [],
      "include_colab_link": true
    }
  },
  "nbformat": 4,
  "nbformat_minor": 0
}
